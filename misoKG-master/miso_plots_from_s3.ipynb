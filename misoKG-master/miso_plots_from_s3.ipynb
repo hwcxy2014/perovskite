{
 "cells": [
  {
   "cell_type": "code",
   "execution_count": null,
   "metadata": {
    "collapsed": false
   },
   "outputs": [],
   "source": [
    "%matplotlib notebook\n",
    "from matplotlib.backends.backend_pdf import PdfPages\n",
    "\n",
    "import matplotlib.pyplot as plt\n",
    "import boto\n",
    "from boto.s3.connection import S3Connection\n",
    "import pickle\n",
    "import numpy as np\n",
    "# from data_io import send_data_to_s3, get_data_from_s3\n",
    "import pandas as pd\n",
    "import os\n",
    "\n",
    "conn = S3Connection()\n",
    "conn = boto.connect_s3()\n",
    "bucket = conn.get_bucket('poloczeks3', validate=True)"
   ]
  },
  {
   "cell_type": "code",
   "execution_count": null,
   "metadata": {
    "collapsed": true
   },
   "outputs": [],
   "source": [
    "linethickness = 2\n",
    "\n",
    "def get_data_from_s3(bucket, key):\n",
    "    s3_key = bucket.get_key(key)\n",
    "    if s3_key is None:\n",
    "        raise ValueError(\"key not found\")\n",
    "    data = pickle.loads(s3_key.get_contents_as_string())\n",
    "    return data\n",
    "\n",
    "def send_data_to_s3(bucket, key, data):\n",
    "    s3_key = bucket.get_key(key)\n",
    "    if s3_key is None:\n",
    "        s3_key = bucket.new_key(key)\n",
    "    s3_key.set_contents_from_string(pickle.dumps(data))"
   ]
  },
  {
   "cell_type": "code",
   "execution_count": null,
   "metadata": {
    "collapsed": false
   },
   "outputs": [],
   "source": [
    "def process_s3_data(bucket, prefix, num_repl, num_steps):\n",
    "    data_best, data_cost, data_baseline = [], [], []\n",
    "    for i in range(num_repl):\n",
    "        s3_key = bucket.get_key(prefix+str(i))\n",
    "        if s3_key is None:\n",
    "            print \"{0}_{1} not exist\".format(prefix, i)\n",
    "        else:\n",
    "            d = pickle.loads(s3_key.get_contents_as_string())\n",
    "            if len(d['best']) < num_steps:\n",
    "                print \"{0}_{1} has {2} data points\".format(prefix, i, len(d['best']))\n",
    "            else:\n",
    "                data_best.append(np.concatenate(([d['init_best_truth']], d['best'])))\n",
    "                data_cost.append(np.concatenate(([0], d['cost'])))\n",
    "                data_baseline.append(d['init_best_truth'])\n",
    "    return np.array(data_best), np.array(data_cost), np.array(data_baseline)\n",
    "\n",
    "\n",
    "def benchmark_plot(mkg_best, mkg_cost, mei_best, mei_cost, ego_best, ego_cost, pes_best, pes_cost, baseline, fig_name, loc='upper right', ub_ylim = 40, fixcost = 1.0, fixcost_ego = 1.0):\n",
    "#     mkg_x, mkg_y = np.log(mkg_cost+fixcost), baseline[:mkg_best.shape[0]].reshape((-1,1)) - mkg_best\n",
    "#     mei_x, mei_y = np.log(mei_cost+fixcost), baseline[:mei_best.shape[0]].reshape((-1,1)) - mei_best\n",
    "#     ego_x, ego_y = np.log(ego_cost+fixcost_ego), baseline[:ego_best.shape[0]].reshape((-1,1)) - ego_best\n",
    "#     pes_x, pes_y = np.log(pes_cost+fixcost), baseline[:pes_best.shape[0]].reshape((-1,1)) - pes_best\n",
    "    mkg_x, mkg_y = np.log(mkg_cost+fixcost),  mkg_best\n",
    "    mei_x, mei_y = np.log(mei_cost+fixcost), mei_best\n",
    "    ego_x, ego_y = np.log(ego_cost+fixcost_ego), ego_best\n",
    "    pes_x, pes_y = np.log(pes_cost+fixcost), pes_best\n",
    "    fig = plt.figure()\n",
    "    plt.errorbar(mkg_x.mean(axis=0), mkg_y.mean(axis=0), xerr=mkg_x.std(axis=0) / np.sqrt(mkg_x.shape[0]) * 2.0, yerr=mkg_y.std(axis=0) / np.sqrt(mkg_y.shape[0]) * 2.0, label='misoKG', linestyle='-', color = 'b', linewidth=linethickness)\n",
    "    plt.errorbar(mei_x.mean(axis=0), mei_y.mean(axis=0), xerr=mei_x.std(axis=0) / np.sqrt(mei_x.shape[0]) * 2.0, yerr=mei_y.std(axis=0) / np.sqrt(mei_y.shape[0]) * 2.0, label='misoEI', linestyle='--', color = 'g', linewidth=linethickness)\n",
    "    plt.errorbar(ego_x.mean(axis=0), ego_y.mean(axis=0), xerr=ego_x.std(axis=0) / np.sqrt(ego_x.shape[0]) * 2.0, yerr=ego_y.std(axis=0) / np.sqrt(ego_y.shape[0]) * 2.0, label='EGO', linestyle=':', color = 'c', linewidth=linethickness)\n",
    "    plt.errorbar(pes_x.mean(axis=0), pes_y.mean(axis=0), xerr=pes_x.std(axis=0) / np.sqrt(pes_x.shape[0]) * 2.0, yerr=pes_y.std(axis=0) / np.sqrt(pes_y.shape[0]) * 2.0, label=\"MTBO+\", linestyle='-.', color = 'r', linewidth=linethickness)\n",
    "#     plt.ylim(-1, ub_ylim)\n",
    "    plt.xlabel(\"log(Total Cost)\", fontsize=20)\n",
    "    plt.ylabel(\"best so far\", fontsize=20)\n",
    "    ax = plt.gca()\n",
    "    handles, labels = ax.get_legend_handles_labels()\n",
    "    handles = [h[0] for h in handles]\n",
    "    ax.legend(handles, labels, numpoints=1, loc=loc)\n",
    "#     plt.savefig(fig_name+'.pdf') # enable it if you want to save to pdf\n",
    "    print \"mkg: {0}, mei: {1}, ego: {2}, pes: {3}\".format(mkg_best.shape[0], mei_best.shape[0], ego_best.shape[0], pes_best.shape[0])"
   ]
  },
  {
   "cell_type": "code",
   "execution_count": null,
   "metadata": {
    "collapsed": false
   },
   "outputs": [],
   "source": [
    "# rbRemi from latest run\n",
    "num_repl = 100\n",
    "mkg_best, mkg_cost, mkg_baseline = process_s3_data(bucket, \"miso/result/mkg_rbRemi_repl_\", num_repl, 25)\n",
    "pes_best, pes_cost, pes_baseline = process_s3_data(bucket, \"miso/result/pes_2_rbRemi_repl_\", num_repl, 25)\n",
    "ego_best, ego_cost, ego_baseline = process_s3_data(bucket, \"miso/result/ego_rbRemi_repl_\", num_repl, 25)\n",
    "mei_best, mei_cost, mei_baseline = process_s3_data(bucket, \"miso/result/mei_rbRemi_repl_\", num_repl, 25)\n",
    "benchmark_plot(mkg_best, mkg_cost, mei_best, mei_cost, ego_best, ego_cost, pes_best, pes_cost, mkg_baseline, \"rbRemi\")"
   ]
  },
  {
   "cell_type": "code",
   "execution_count": null,
   "metadata": {
    "collapsed": false
   },
   "outputs": [],
   "source": [
    "# rbRemi with fixcost\n",
    "fixcost = 5 * (1000. + 1.0)\n",
    "fixcost_ego = 5000.\n",
    "benchmark_plot(mkg_best, mkg_cost, mei_best, mei_cost, ego_best, ego_cost, pes_best, pes_cost, mkg_baseline, \"rbRemi\", fixcost=fixcost, fixcost_ego=fixcost_ego)"
   ]
  },
  {
   "cell_type": "code",
   "execution_count": null,
   "metadata": {
    "collapsed": false
   },
   "outputs": [],
   "source": [
    "# rbNew from latest run\n",
    "num_repl = 100\n",
    "mkg_best, mkg_cost, mkg_baseline = process_s3_data(bucket, \"miso/result/mkg_rbNew_repl_\", num_repl, 25)\n",
    "pes_best, pes_cost, pes_baseline = process_s3_data(bucket, \"miso/result/pes_2_rbNew_repl_\", num_repl, 25)\n",
    "ego_best, ego_cost, ego_baseline = process_s3_data(bucket, \"miso/result/ego_rbNew_repl_\", num_repl, 25)\n",
    "mei_best, mei_cost, mei_baseline = process_s3_data(bucket, \"miso/result/mei_rbNew_repl_\", num_repl, 25)\n",
    "benchmark_plot(mkg_best, mkg_cost, mei_best, mei_cost, ego_best, ego_cost, pes_best, pes_cost, mkg_baseline, \"rbNew\")"
   ]
  },
  {
   "cell_type": "code",
   "execution_count": null,
   "metadata": {
    "collapsed": false
   },
   "outputs": [],
   "source": [
    "# rbNew with fixcost\n",
    "fixcost = 5 * (50. + 1.)\n",
    "fixcost_ego = 5 * 50.\n",
    "benchmark_plot(mkg_best, mkg_cost, mei_best, mei_cost, ego_best, ego_cost, pes_best, pes_cost, mkg_baseline, \"rbNew\", fixcost=fixcost, fixcost_ego=fixcost_ego)"
   ]
  },
  {
   "cell_type": "code",
   "execution_count": null,
   "metadata": {
    "collapsed": false
   },
   "outputs": [],
   "source": [
    "# atoext 150 steps, where MEI used mysql backup because s3 results are not there yet\n",
    "num_repl = 100\n",
    "mkg_best, mkg_cost, mkg_baseline = process_s3_data(bucket, \"miso/result/mkg_atoext_150steps_repl_\", num_repl, 150)\n",
    "pes_best, pes_cost, pes_baseline = process_s3_data(bucket, \"miso/result/pes_2_atoext_150steps_repl_\", num_repl, 150)\n",
    "ego_best, ego_cost, ego_baseline = process_s3_data(bucket, \"miso/result/ego_atoext_150steps_repl_\", num_repl, 150)\n",
    "# mei_best, mei_cost, mei_baseline = process_s3_data(bucket, \"miso/result/mei_atoext_150steps_repl_\", num_repl, 150)\n",
    "mei_best = get_data_from_s3(bucket, \"miso/mysql_backup/mei_atoext_best\")\n",
    "mei_cost = get_data_from_s3(bucket, \"miso/mysql_backup/mei_atoext_cost\")\n",
    "num_mei_repl = mei_best.shape[0]\n",
    "mei_best = np.hstack((mkg_baseline[:num_mei_repl].reshape((-1,1)), mei_best))\n",
    "mei_cost = np.hstack((np.zeros(num_mei_repl).reshape((-1,1)), mei_cost))\n",
    "benchmark_plot(mkg_best, mkg_cost, mei_best, mei_cost, ego_best, ego_cost, pes_best, pes_cost, mkg_baseline, \"atoext150steps\")"
   ]
  },
  {
   "cell_type": "code",
   "execution_count": null,
   "metadata": {
    "collapsed": false
   },
   "outputs": [],
   "source": [
    "#ATOext with fixcosts\n",
    "fixcost = 20 * (17.1 + 3.9 + 0.5)\n",
    "fixcost_ego = 20 * 17.1\n",
    "benchmark_plot(mkg_best, mkg_cost, mei_best, mei_cost, ego_best, ego_cost, pes_best, pes_cost, mkg_baseline, \"atoext150steps\", fixcost=fixcost, fixcost_ego=fixcost_ego)"
   ]
  },
  {
   "cell_type": "code",
   "execution_count": null,
   "metadata": {
    "collapsed": false
   },
   "outputs": [],
   "source": []
  },
  {
   "cell_type": "code",
   "execution_count": null,
   "metadata": {
    "collapsed": false
   },
   "outputs": [],
   "source": []
  },
  {
   "cell_type": "code",
   "execution_count": null,
   "metadata": {
    "collapsed": true
   },
   "outputs": [],
   "source": [
    "################################################################################\n",
    "# This is a temporary solution for experiments on RB from old runs, should delete when new runs are up\n",
    "def gain(baseline, x, scaling=False):\n",
    "    if scaling:\n",
    "        return (baseline - x[-1]) * (x[0] - x) / (x[0] - x[-1])\n",
    "    else:\n",
    "        return baseline - x\n",
    "def benchmark_plot_old_standard(mkg_best, mkg_cost, mei_best, mei_cost, ego_best, ego_cost, pes_best, pes_cost, baseline, fig_name, loc='lower right', ub_ylim = 40, fixcost = 0.0, fixcost_ego = 0.0):\n",
    "    mkg_x, mkg_y = np.log([(x+fixcost) for x in mkg_cost]), mkg_best\n",
    "    mei_x, mei_y = np.log([(x+fixcost) for x in mei_cost]), mei_best\n",
    "    ego_x, ego_y = np.log([(x+fixcost_ego) for x in ego_cost]), ego_best\n",
    "    pes_x, pes_y = np.log([(x+fixcost) for x in pes_cost]), pes_best\n",
    "    fig = plt.figure()\n",
    "    plt.errorbar(mkg_x.mean(axis=0), gain(baseline[0], mkg_y.mean(axis=0), scaling=True), xerr=mkg_x.std(axis=0) / np.sqrt(mkg_x.shape[0]) * 2.0, yerr=mkg_y.std(axis=0) / np.sqrt(mkg_y.shape[0]) * 2.0, label='misoKG', linestyle='-', color = 'b', linewidth=linethickness)\n",
    "    plt.errorbar(mei_x.mean(axis=0), gain(baseline[0], mei_y.mean(axis=0), scaling=True), xerr=mei_x.std(axis=0) / np.sqrt(mei_x.shape[0]) * 2.0, yerr=mei_y.std(axis=0) / np.sqrt(mei_y.shape[0]) * 2.0, label='misoEI', linestyle='--', color = 'g', linewidth=linethickness)\n",
    "    plt.errorbar(ego_x.mean(axis=0), gain(baseline[0], ego_y.mean(axis=0), scaling=True), xerr=ego_x.std(axis=0) / np.sqrt(ego_x.shape[0]) * 2.0, yerr=ego_y.std(axis=0) / np.sqrt(ego_y.shape[0]) * 2.0, label='EGO', linestyle=':', color = 'c', linewidth=linethickness)\n",
    "    plt.errorbar(pes_x.mean(axis=0), gain(baseline[0], pes_y.mean(axis=0), scaling=True), xerr=pes_x.std(axis=0) / np.sqrt(pes_x.shape[0]) * 2.0, yerr=pes_y.std(axis=0) / np.sqrt(pes_y.shape[0]) * 2.0, label=\"MTBO+\", linestyle='-.', color = 'r', linewidth=linethickness)\n",
    "    plt.ylim(0, ub_ylim)\n",
    "    plt.xlabel(\"log(Total Cost)\", fontsize=20)\n",
    "    plt.ylabel(\"Gain\", fontsize=20)\n",
    "    ax = plt.gca()\n",
    "    handles, labels = ax.get_legend_handles_labels()\n",
    "    handles = [h[0] for h in handles]\n",
    "    ax.legend(handles, labels, numpoints=1, loc=loc)\n",
    "#     plt.savefig(fig_name+'.pdf') # enable it if you want to save to pdf\n",
    "    print \"mkg: {0}, mei: {1}, ego: {2}, pes: {3}\".format(mkg_best.shape[0], mei_best.shape[0], ego_best.shape[0], pes_best.shape[0])"
   ]
  },
  {
   "cell_type": "code",
   "execution_count": null,
   "metadata": {
    "collapsed": true
   },
   "outputs": [],
   "source": [
    "# rbRemi from mysql data"
   ]
  },
  {
   "cell_type": "code",
   "execution_count": null,
   "metadata": {
    "collapsed": false
   },
   "outputs": [],
   "source": [
    "num_repl = 100\n",
    "ego_best_rbRemi = get_data_from_s3(bucket, \"miso/mysql_backup/rosenbrock_ego_1_best\")\n",
    "ego_cost_rbRemi = get_data_from_s3(bucket, \"miso/mysql_backup/rosenbrock_ego_1_cost\")\n",
    "mei_best_rbRemi = get_data_from_s3(bucket, \"miso/mysql_backup/rosenbrock_multiEI_1_best\")\n",
    "mei_cost_rbRemi = get_data_from_s3(bucket, \"miso/mysql_backup/rosenbrock_multiEI_1_cost\")\n",
    "mkg_best_rbRemi = get_data_from_s3(bucket, \"miso/mysql_backup/rosenbrock_multiKG_noisefree_best\")\n",
    "mkg_cost_rbRemi = get_data_from_s3(bucket, \"miso/mysql_backup/rosenbrock_multiKG_noisefree_cost\")\n",
    "pes_best_rbRemi = get_data_from_s3(bucket, \"miso/mysql_backup/pes_rbpes_best\")\n",
    "pes_cost_rbRemi = get_data_from_s3(bucket, \"miso/mysql_backup/pes_rbpes_cost\")\n",
    "baseline_rbRemi = np.amax([np.mean(ego_best_rbRemi[:,0]), np.mean(mei_best_rbRemi[:,0]), np.mean(mkg_best_rbRemi[:,0]), np.mean(pes_best_rbRemi[:,0])]) * np.ones(num_repl)"
   ]
  },
  {
   "cell_type": "code",
   "execution_count": null,
   "metadata": {
    "collapsed": false
   },
   "outputs": [],
   "source": [
    "# rbRemi without fixcost\n",
    "benchmark_plot_old_standard(mkg_best_rbRemi, mkg_cost_rbRemi, mei_best_rbRemi, mei_cost_rbRemi, ego_best_rbRemi, ego_cost_rbRemi, pes_best_rbRemi, pes_cost_rbRemi, baseline_rbRemi, \"rbRemi\")"
   ]
  },
  {
   "cell_type": "code",
   "execution_count": null,
   "metadata": {
    "collapsed": false
   },
   "outputs": [],
   "source": [
    "# rbRemi with fixcost\n",
    "fixcost = 5 * (1000. + 1.0) # np.e**2\n",
    "fixcost_ego = 5000.\n",
    "benchmark_plot_old_standard(mkg_best_rbRemi, mkg_cost_rbRemi, mei_best_rbRemi, mei_cost_rbRemi, ego_best_rbRemi, ego_cost_rbRemi, pes_best_rbRemi, pes_cost_rbRemi, baseline_rbRemi, \"rbRemi\", fixcost=fixcost, fixcost_ego=fixcost_ego)"
   ]
  },
  {
   "cell_type": "code",
   "execution_count": null,
   "metadata": {
    "collapsed": true
   },
   "outputs": [],
   "source": [
    "# rbNew from mysql data"
   ]
  },
  {
   "cell_type": "code",
   "execution_count": null,
   "metadata": {
    "collapsed": false
   },
   "outputs": [],
   "source": [
    "num_repl = 100\n",
    "ego_best_rbNew = get_data_from_s3(bucket, \"miso/mysql_backup/rosenbrock_ego_2_best\")\n",
    "ego_cost_rbNew = get_data_from_s3(bucket, \"miso/mysql_backup/rosenbrock_ego_2_cost\")\n",
    "mei_best_rbNew = get_data_from_s3(bucket, \"miso/mysql_backup/rosenbrock_multiEI_2_best\")\n",
    "mei_cost_rbNew = get_data_from_s3(bucket, \"miso/mysql_backup/rosenbrock_multiEI_2_cost\")\n",
    "mkg_best_rbNew = get_data_from_s3(bucket, \"miso/mysql_backup/rosenbrock_multiKG_noisefree_2_best\")\n",
    "mkg_cost_rbNew = get_data_from_s3(bucket, \"miso/mysql_backup/rosenbrock_multiKG_noisefree_2_cost\")\n",
    "pes_best_rbNew = get_data_from_s3(bucket, \"miso/mysql_backup/pes_rbnewpes_best\")\n",
    "pes_cost_rbNew = get_data_from_s3(bucket, \"miso/mysql_backup/pes_rbnewpes_cost\")\n",
    "baseline_rbNew = np.amax([np.mean(ego_best_rbNew[:,0]), np.mean(mei_best_rbNew[:,0]), np.mean(mkg_best_rbNew[:,0]), np.mean(pes_best_rbNew[:,0])]) * np.ones(num_repl)"
   ]
  },
  {
   "cell_type": "code",
   "execution_count": null,
   "metadata": {
    "collapsed": false
   },
   "outputs": [],
   "source": [
    "# rbNew without fixcost\n",
    "fixcost = 0.0\n",
    "benchmark_plot_old_standard(mkg_best_rbNew, mkg_cost_rbNew, mei_best_rbNew, mei_cost_rbNew, ego_best_rbNew, ego_cost_rbNew, pes_best_rbNew, pes_cost_rbNew, baseline_rbNew, \"rbNew\", fixcost=fixcost)"
   ]
  },
  {
   "cell_type": "code",
   "execution_count": null,
   "metadata": {
    "collapsed": false
   },
   "outputs": [],
   "source": [
    "# rbNew with fixcost\n",
    "fixcost = 5 * (50. + 1.)\n",
    "fixcost_ego = 5 * 50.\n",
    "benchmark_plot_old_standard(mkg_best_rbNew, mkg_cost_rbNew, mei_best_rbNew, mei_cost_rbNew, ego_best_rbNew, ego_cost_rbNew, pes_best_rbNew, pes_cost_rbNew, baseline_rbNew, \"rbNew\", fixcost=fixcost, fixcost_ego=fixcost_ego)"
   ]
  },
  {
   "cell_type": "code",
   "execution_count": null,
   "metadata": {
    "collapsed": false
   },
   "outputs": [],
   "source": [
    "# atoext 50steps from mysql data"
   ]
  },
  {
   "cell_type": "code",
   "execution_count": null,
   "metadata": {
    "collapsed": true
   },
   "outputs": [],
   "source": [
    "# num_repl = 120\n",
    "# ego_best_atoext_old = get_data_from_s3(bucket, \"miso/mysql_backup/ego_atoext_best\")\n",
    "# ego_cost_atoext_old = get_data_from_s3(bucket, \"miso/mysql_backup/ego_atoext_cost\")\n",
    "# mei_best_atoext_old = get_data_from_s3(bucket, \"miso/mysql_backup/mei_atoext_best\")\n",
    "# mei_cost_atoext_old = get_data_from_s3(bucket, \"miso/mysql_backup/mei_atoext_cost\")\n",
    "# mkg_best_atoext_old = get_data_from_s3(bucket, \"miso/mysql_backup/vkg_atoext_best\")\n",
    "# mkg_cost_atoext_old = get_data_from_s3(bucket, \"miso/mysql_backup/vkg_atoext_cost\")\n",
    "# pes_best_atoext_old = get_data_from_s3(bucket, \"miso/mysql_backup/pes_atoext_best\")\n",
    "# pes_cost_atoext_old = get_data_from_s3(bucket, \"miso/mysql_backup/pes_atoext_cost\")\n",
    "# baseline_atoext_old = np.amax([np.mean(ego_best_atoext_old[:,0]), np.mean(mei_best_atoext_old[:,0]), np.mean(mkg_best_atoext_old[:,0]), np.mean(pes_best_atoext_old[:,0])]) * np.ones(num_repl)"
   ]
  },
  {
   "cell_type": "code",
   "execution_count": null,
   "metadata": {
    "collapsed": false
   },
   "outputs": [],
   "source": [
    "# benchmark_plot(mkg_best_atoext_old, mkg_cost_atoext_old, mei_best_atoext_old, mei_cost_atoext_old, ego_best_atoext_old, ego_cost_atoext_old, pes_best_atoext_old, pes_cost_atoext_old, baseline_atoext_old, \"atoext_old\")"
   ]
  },
  {
   "cell_type": "code",
   "execution_count": null,
   "metadata": {
    "collapsed": false
   },
   "outputs": [],
   "source": [
    "# for i in range(100):\n",
    "#     k = \"miso/result/ego_rbNew_repl_{0}\".format(i)\n",
    "#     key = bucket.get_key(k)\n",
    "#     if key is None:\n",
    "#         print k"
   ]
  },
  {
   "cell_type": "code",
   "execution_count": null,
   "metadata": {
    "collapsed": false
   },
   "outputs": [],
   "source": [
    "# get_data_from_s3(bucket, 'miso/hyper/pes_atoext')"
   ]
  },
  {
   "cell_type": "code",
   "execution_count": null,
   "metadata": {
    "collapsed": false
   },
   "outputs": [],
   "source": [
    "# a=pd.read_csv(\"/Users/jialeiwang/Desktop/for_s3/mei_hyper_atoext.csv\")"
   ]
  },
  {
   "cell_type": "code",
   "execution_count": null,
   "metadata": {
    "collapsed": false
   },
   "outputs": [],
   "source": []
  },
  {
   "cell_type": "code",
   "execution_count": null,
   "metadata": {
    "collapsed": false
   },
   "outputs": [],
   "source": []
  },
  {
   "cell_type": "code",
   "execution_count": null,
   "metadata": {
    "collapsed": false
   },
   "outputs": [],
   "source": [
    "# d = get_data_from_s3(bucket, \"miso/result/mei_rbRemi_repl_0\")\n",
    "# d"
   ]
  },
  {
   "cell_type": "code",
   "execution_count": null,
   "metadata": {
    "collapsed": false
   },
   "outputs": [],
   "source": []
  },
  {
   "cell_type": "code",
   "execution_count": null,
   "metadata": {
    "collapsed": false
   },
   "outputs": [],
   "source": []
  },
  {
   "cell_type": "code",
   "execution_count": null,
   "metadata": {
    "collapsed": false
   },
   "outputs": [],
   "source": [
    "# dd={0:d['hyperparam'][0,:9], 1:d['hyperparam'][0,9:18], 2:d['hyperparam'][0,18:]}"
   ]
  },
  {
   "cell_type": "code",
   "execution_count": null,
   "metadata": {
    "collapsed": false
   },
   "outputs": [],
   "source": [
    "for k in bucket.list():\n",
    "    if 'miso' in k.key:\n",
    "        print k.key"
   ]
  },
  {
   "cell_type": "code",
   "execution_count": null,
   "metadata": {
    "collapsed": false
   },
   "outputs": [],
   "source": [
    "# prefix1 = \"miso/result/mkg_atoext_150steps_repl_\"\n",
    "# prefix2 = \"miso/result/mei_atoext_150steps_repl_\"\n",
    "# for i in range(100):\n",
    "#     try:\n",
    "#         d1 = get_data_from_s3(bucket, prefix1+str(i))\n",
    "#         d2 = get_data_from_s3(bucket, prefix2+str(i))\n",
    "#         d2['init_best_truth'] = d1['init_best_truth']\n",
    "#         send_data_to_s3(bucket, prefix2+str(i), d2)\n",
    "#     except:\n",
    "#         print i\n",
    "#     #     t1.append(d1['init_best_truth'])\n",
    "# #     t2.append(d2['init_best_truth'])\n",
    "# # print np.mean(t1)\n",
    "# # print np.mean(t2)\n",
    "# # for i in range(num_repl):\n",
    "# #         d = get_data_from_s3(bucket, prefix+str(i))\n",
    "# #         if len(d['best']) < num_steps:\n",
    "# #             print \"{0}_{1} has {2} data points\".format(prefix, i, len(d['best']))\n",
    "# #         else:\n",
    "# #             data_best.append(np.concatenate(([d['init_best_truth']], d['best'])))\n",
    "# #             data_cost.append(np.concatenate(([0], d['cost'])))\n",
    "# #             data_baseline.append(d['init_best_truth'])"
   ]
  },
  {
   "cell_type": "code",
   "execution_count": null,
   "metadata": {
    "collapsed": false
   },
   "outputs": [],
   "source": [
    "d = get_data_from_s3(bucket, \"miso/data/rbRemi_IS_1_5_points_repl_0\")"
   ]
  },
  {
   "cell_type": "code",
   "execution_count": null,
   "metadata": {
    "collapsed": false
   },
   "outputs": [],
   "source": [
    "d"
   ]
  },
  {
   "cell_type": "code",
   "execution_count": null,
   "metadata": {
    "collapsed": true
   },
   "outputs": [],
   "source": [
    "with open(\"/Users/jialeiwang/Documents/miso/rbpes_IS_0_1_5_points_each_repl_0.pickle\",'rb') as f:\n",
    "    dd = pickle.load(f)"
   ]
  },
  {
   "cell_type": "code",
   "execution_count": null,
   "metadata": {
    "collapsed": false
   },
   "outputs": [],
   "source": [
    "np.array(dd['vals'])-456.3"
   ]
  }
 ],
 "metadata": {
  "anaconda-cloud": {},
  "kernelspec": {
   "display_name": "Python 2",
   "language": "python",
   "name": "python2"
  },
  "language_info": {
   "codemirror_mode": {
    "name": "ipython",
    "version": 2
   },
   "file_extension": ".py",
   "mimetype": "text/x-python",
   "name": "python",
   "nbconvert_exporter": "python",
   "pygments_lexer": "ipython2",
   "version": "2.7.12"
  }
 },
 "nbformat": 4,
 "nbformat_minor": 0
}
