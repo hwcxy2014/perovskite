{
 "cells": [
  {
   "cell_type": "code",
   "execution_count": null,
   "metadata": {
    "collapsed": false
   },
   "outputs": [],
   "source": [
    "%matplotlib notebook\n",
    "from matplotlib.backends.backend_pdf import PdfPages\n",
    "import matplotlib.pyplot as plt\n",
    "import numpy as np\n",
    "import os\n",
    "import pandas as pd\n",
    "import pickle\n",
    "import boto\n",
    "from boto.s3.connection import S3Connection\n",
    "from data_io import get_data_from_s3, send_data_to_s3\n",
    "conn = S3Connection()\n",
    "conn = boto.connect_s3()\n",
    "bucket = conn.get_bucket('poloczeks3', validate=True)"
   ]
  },
  {
   "cell_type": "code",
   "execution_count": null,
   "metadata": {
    "collapsed": true
   },
   "outputs": [],
   "source": []
  },
  {
   "cell_type": "code",
   "execution_count": null,
   "metadata": {
    "collapsed": true
   },
   "outputs": [],
   "source": [
    "def summary_best(filename, num_data, num_repl):\n",
    "    data_best = []\n",
    "    for repl_idx in range(num_repl):\n",
    "        d = get_data_from_s3(bucket, \"coldstart/result/{0}_repl_{1}\".format(filename, repl_idx))\n",
    "        if len(d['best']) != num_data:\n",
    "            raise RuntimeError(\"data loss\")\n",
    "        data_best.append(np.concatenate(([d['init_best_truth']], d['best'])).tolist())\n",
    "    return np.array(data_best)"
   ]
  },
  {
   "cell_type": "code",
   "execution_count": null,
   "metadata": {
    "collapsed": true
   },
   "outputs": [],
   "source": [
    "def make_plot(ego_name, mkg_name, kg_name, mtbo_name, num_data, num_repl=100):\n",
    "    fig = plt.figure()\n",
    "    ego_best = summary_best(ego_name, num_data, num_repl)\n",
    "    mkg_best = summary_best(mkg_name, num_data, num_repl)\n",
    "    kg_best = summary_best(kg_name, num_data, num_repl)\n",
    "    mtbo_best = summary_best(mtbo_name, num_data, num_repl)\n",
    "    baseline = np.mean(ego_best, axis=0)[0]\n",
    "    plt.errorbar(range(ego_best.shape[1]), baseline-np.mean(ego_best, axis=0), yerr=np.std(ego_best, axis=0) * 2.0 / np.sqrt(ego_best.shape[0]), label=\"EGO\")\n",
    "    plt.errorbar(range(mkg_best.shape[1]), baseline-np.mean(mkg_best, axis=0), yerr=np.std(mkg_best, axis=0) * 2.0 / np.sqrt(mkg_best.shape[0]), label=\"wsKG\")\n",
    "    plt.errorbar(range(kg_best.shape[1]), baseline-np.mean(kg_best, axis=0), yerr=np.std(kg_best, axis=0) * 2.0 / np.sqrt(kg_best.shape[0]), label=\"KG\")\n",
    "    plt.errorbar(range(mtbo_best.shape[1]), baseline-np.mean(mtbo_best, axis=0), yerr=np.std(mtbo_best, axis=0) * 2.0 / np.sqrt(mtbo_best.shape[0]), label=\"MTBO+\")\n",
    "    plt.legend(loc='lower right')\n",
    "    plt.xlabel(\"Iteration\")\n",
    "    plt.ylabel(\"Gain\")"
   ]
  },
  {
   "cell_type": "code",
   "execution_count": null,
   "metadata": {
    "collapsed": false
   },
   "outputs": [],
   "source": [
    "# rb_van"
   ]
  },
  {
   "cell_type": "code",
   "execution_count": null,
   "metadata": {
    "collapsed": false
   },
   "outputs": [],
   "source": [
    "make_plot('ego_rbCvanN', 'mkg_rbCvanN', 'kg_rbCvanN', 'pes_rbCvanN', 25)"
   ]
  },
  {
   "cell_type": "code",
   "execution_count": null,
   "metadata": {
    "collapsed": true
   },
   "outputs": [],
   "source": [
    "# rb_sin"
   ]
  },
  {
   "cell_type": "code",
   "execution_count": null,
   "metadata": {
    "collapsed": false
   },
   "outputs": [],
   "source": [
    "make_plot('ego_rbCsinN', 'mkg_rbCsinN', 'kg_rbCsinN', 'pes_rbCsinN', 25)"
   ]
  },
  {
   "cell_type": "code",
   "execution_count": null,
   "metadata": {
    "collapsed": true
   },
   "outputs": [],
   "source": [
    "# rb_bias"
   ]
  },
  {
   "cell_type": "code",
   "execution_count": null,
   "metadata": {
    "collapsed": false
   },
   "outputs": [],
   "source": [
    "make_plot('ego_rbCbiasN', 'mkg_rbCbiasN', 'kg_rbCbiasN', 'pes_rbCbiasN', 25)"
   ]
  },
  {
   "cell_type": "code",
   "execution_count": null,
   "metadata": {
    "collapsed": true
   },
   "outputs": [],
   "source": []
  },
  {
   "cell_type": "code",
   "execution_count": null,
   "metadata": {
    "collapsed": false
   },
   "outputs": [],
   "source": []
  },
  {
   "cell_type": "code",
   "execution_count": null,
   "metadata": {
    "collapsed": true
   },
   "outputs": [],
   "source": [
    "# ato_van"
   ]
  },
  {
   "cell_type": "code",
   "execution_count": null,
   "metadata": {
    "collapsed": false
   },
   "outputs": [],
   "source": [
    "make_plot('ego_atoC_vanilla', 'mkg_atoC_vanilla', 'kg_atoC_vanilla', 'pes_atoC_vanilla', 50)"
   ]
  },
  {
   "cell_type": "code",
   "execution_count": null,
   "metadata": {
    "collapsed": true
   },
   "outputs": [],
   "source": [
    "# ato_var2"
   ]
  },
  {
   "cell_type": "code",
   "execution_count": null,
   "metadata": {
    "collapsed": false
   },
   "outputs": [],
   "source": [
    "make_plot('ego_atoC_var2', 'mkg_atoC_var2', 'kg_atoC_var2', 'pes_atoC_var2', 50)"
   ]
  },
  {
   "cell_type": "code",
   "execution_count": null,
   "metadata": {
    "collapsed": true
   },
   "outputs": [],
   "source": [
    "# ato_var3"
   ]
  },
  {
   "cell_type": "code",
   "execution_count": null,
   "metadata": {
    "collapsed": false
   },
   "outputs": [],
   "source": [
    "make_plot('ego_atoC_var3', 'mkg_atoC_var3', 'kg_atoC_var3', 'pes_atoC_var3', 50)"
   ]
  },
  {
   "cell_type": "code",
   "execution_count": null,
   "metadata": {
    "collapsed": true
   },
   "outputs": [],
   "source": [
    "# ato_var4"
   ]
  },
  {
   "cell_type": "code",
   "execution_count": null,
   "metadata": {
    "collapsed": false
   },
   "outputs": [],
   "source": [
    "make_plot('ego_atoC_var4', 'mkg_atoC_var4', 'kg_atoC_var4', 'pes_atoC_var4', 50)"
   ]
  },
  {
   "cell_type": "code",
   "execution_count": null,
   "metadata": {
    "collapsed": false
   },
   "outputs": [],
   "source": [
    "# def plot_cor(func_name, dim):\n",
    "#     with open(\"plot/{0}_plot_data.pickle\".format(func_name), \"rb\") as f:\n",
    "#         data = pickle.load(f)\n",
    "#     new_data = {'x': data['x'], 'cor_is': np.zeros((len(data['x']), dim)), 'cor_delta': np.zeros((len(data['x']), dim))}\n",
    "#     with PdfPages(\"plot/{0}_cor_is.pdf\".format(func_name)) as pdf:\n",
    "#         for which_dim in range(dim):\n",
    "#             plt.figure()\n",
    "#             plt.plot(data['x'], np.mean(data['cor_is'][:,:,which_dim], axis=0))\n",
    "#             plt.title(\"dim {0}\".format(which_dim))\n",
    "#             pdf.savefig()\n",
    "#             plt.close()\n",
    "#             new_data['cor_is'][:, which_dim] = np.mean(data['cor_is'][:,:,which_dim], axis=0)\n",
    "#     with PdfPages(\"plot/{0}_cor_delta_gp.pdf\".format(func_name)) as pdf:\n",
    "#         for which_dim in range(dim):\n",
    "#             plt.figure()\n",
    "#             plt.plot(data['x'], np.mean(data['cor_delta'][:,:,which_dim], axis=0))\n",
    "#             plt.title(\"dim {0}\".format(which_dim))\n",
    "#             pdf.savefig()\n",
    "#             plt.close()\n",
    "#             new_data['cor_delta'][:, which_dim] = np.mean(data['cor_delta'][:,:,which_dim], axis=0)\n",
    "#     with open(\"plot/{0}_for_plot.pickle\".format(func_name), \"wb\") as f:\n",
    "#         pickle.dump(new_data, f)\n",
    "    "
   ]
  },
  {
   "cell_type": "code",
   "execution_count": null,
   "metadata": {
    "collapsed": true
   },
   "outputs": [],
   "source": [
    "def plot_cor(func_name, dim):\n",
    "    with open(\"plot/{0}_for_plot.pickle\".format(func_name), \"rb\") as f:\n",
    "        data = pickle.load(f)\n",
    "    with PdfPages(\"plot/{0}_cor_is.pdf\".format(func_name)) as pdf:\n",
    "        for which_dim in range(dim):\n",
    "            plt.figure()\n",
    "            plt.plot(data['x'], data['cor_is'][:,which_dim])\n",
    "            plt.title(\"dim {0}\".format(which_dim))\n",
    "            pdf.savefig()\n",
    "            plt.close()\n",
    "    with PdfPages(\"plot/{0}_cor_delta_gp.pdf\".format(func_name)) as pdf:\n",
    "        for which_dim in range(dim):\n",
    "            plt.figure()\n",
    "            plt.plot(data['x'], data['cor_delta'][:,which_dim])\n",
    "            plt.title(\"dim {0}\".format(which_dim))\n",
    "            pdf.savefig()\n",
    "            plt.close()"
   ]
  },
  {
   "cell_type": "code",
   "execution_count": null,
   "metadata": {
    "collapsed": false
   },
   "outputs": [],
   "source": [
    "# plot_cor('rb', 2)\n",
    "# plot_cor('ato', 8)"
   ]
  },
  {
   "cell_type": "code",
   "execution_count": null,
   "metadata": {
    "collapsed": false
   },
   "outputs": [],
   "source": [
    "# for filename in os.listdir('tmp/coldstart/result'):\n",
    "#     if \"pickle\" in filename:\n",
    "#         with open(\"tmp/coldstart/result/\"+filename, 'rb') as f:\n",
    "#             d = pickle.load(f)\n",
    "#             key_name = \"coldstart/result/\"+filename.split('.')[0]\n",
    "#             print key_name\n",
    "#             send_data_to_s3(bucket, key_name, d)"
   ]
  },
  {
   "cell_type": "code",
   "execution_count": null,
   "metadata": {
    "collapsed": false
   },
   "outputs": [],
   "source": []
  }
 ],
 "metadata": {
  "kernelspec": {
   "display_name": "Python 2",
   "language": "python",
   "name": "python2"
  },
  "language_info": {
   "codemirror_mode": {
    "name": "ipython",
    "version": 2
   },
   "file_extension": ".py",
   "mimetype": "text/x-python",
   "name": "python",
   "nbconvert_exporter": "python",
   "pygments_lexer": "ipython2",
   "version": "2.7.12"
  }
 },
 "nbformat": 4,
 "nbformat_minor": 0
}
